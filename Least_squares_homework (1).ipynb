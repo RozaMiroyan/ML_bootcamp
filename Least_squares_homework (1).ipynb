{
 "cells": [
  {
   "cell_type": "markdown",
   "id": "6542783e",
   "metadata": {},
   "source": [
    "# Implementing Least Squares Linear Regression for Binary Classification\n"
   ]
  },
  {
   "cell_type": "markdown",
   "id": "58277116",
   "metadata": {},
   "source": [
    "![title](img/img1.png)"
   ]
  },
  {
   "cell_type": "markdown",
   "id": "d8127c02",
   "metadata": {},
   "source": [
    "# Preparing Our Python Environment"
   ]
  },
  {
   "cell_type": "markdown",
   "id": "9d18c30b",
   "metadata": {},
   "source": [
    "First, we import the packages we will use for data manipulation and visualization, namely Numpy, Matplotlib, and Pandas."
   ]
  },
  {
   "cell_type": "code",
   "execution_count": 1,
   "id": "f063e404",
   "metadata": {},
   "outputs": [],
   "source": [
    "import numpy as np\n",
    "import matplotlib.pyplot as plt\n",
    "import pandas as pd\n",
    "from mpl_toolkits.mplot3d import Axes3D\n",
    "from sklearn.preprocessing import OneHotEncoder\n",
    "\n",
    "%matplotlib inline"
   ]
  },
  {
   "cell_type": "markdown",
   "id": "c7b34829",
   "metadata": {},
   "source": [
    "# Preparing Our Training Set"
   ]
  },
  {
   "cell_type": "markdown",
   "id": "f1025904",
   "metadata": {},
   "source": [
    "You are going to generate a set of binary classification data."
   ]
  },
  {
   "cell_type": "code",
   "execution_count": 2,
   "id": "e5659ecb",
   "metadata": {},
   "outputs": [],
   "source": [
    "from sklearn.datasets import load_iris\n",
    "X, y = load_iris(return_X_y=True)"
   ]
  },
  {
   "cell_type": "code",
   "execution_count": 3,
   "id": "c1866359",
   "metadata": {},
   "outputs": [
    {
     "data": {
      "text/plain": [
       "array([[5.1, 3.5, 1.4, 0.2],\n",
       "       [4.9, 3. , 1.4, 0.2],\n",
       "       [4.7, 3.2, 1.3, 0.2],\n",
       "       [4.6, 3.1, 1.5, 0.2],\n",
       "       [5. , 3.6, 1.4, 0.2],\n",
       "       [5.4, 3.9, 1.7, 0.4],\n",
       "       [4.6, 3.4, 1.4, 0.3],\n",
       "       [5. , 3.4, 1.5, 0.2],\n",
       "       [4.4, 2.9, 1.4, 0.2],\n",
       "       [4.9, 3.1, 1.5, 0.1],\n",
       "       [5.4, 3.7, 1.5, 0.2],\n",
       "       [4.8, 3.4, 1.6, 0.2],\n",
       "       [4.8, 3. , 1.4, 0.1],\n",
       "       [4.3, 3. , 1.1, 0.1],\n",
       "       [5.8, 4. , 1.2, 0.2],\n",
       "       [5.7, 4.4, 1.5, 0.4],\n",
       "       [5.4, 3.9, 1.3, 0.4],\n",
       "       [5.1, 3.5, 1.4, 0.3],\n",
       "       [5.7, 3.8, 1.7, 0.3],\n",
       "       [5.1, 3.8, 1.5, 0.3],\n",
       "       [5.4, 3.4, 1.7, 0.2],\n",
       "       [5.1, 3.7, 1.5, 0.4],\n",
       "       [4.6, 3.6, 1. , 0.2],\n",
       "       [5.1, 3.3, 1.7, 0.5],\n",
       "       [4.8, 3.4, 1.9, 0.2],\n",
       "       [5. , 3. , 1.6, 0.2],\n",
       "       [5. , 3.4, 1.6, 0.4],\n",
       "       [5.2, 3.5, 1.5, 0.2],\n",
       "       [5.2, 3.4, 1.4, 0.2],\n",
       "       [4.7, 3.2, 1.6, 0.2],\n",
       "       [4.8, 3.1, 1.6, 0.2],\n",
       "       [5.4, 3.4, 1.5, 0.4],\n",
       "       [5.2, 4.1, 1.5, 0.1],\n",
       "       [5.5, 4.2, 1.4, 0.2],\n",
       "       [4.9, 3.1, 1.5, 0.2],\n",
       "       [5. , 3.2, 1.2, 0.2],\n",
       "       [5.5, 3.5, 1.3, 0.2],\n",
       "       [4.9, 3.6, 1.4, 0.1],\n",
       "       [4.4, 3. , 1.3, 0.2],\n",
       "       [5.1, 3.4, 1.5, 0.2],\n",
       "       [5. , 3.5, 1.3, 0.3],\n",
       "       [4.5, 2.3, 1.3, 0.3],\n",
       "       [4.4, 3.2, 1.3, 0.2],\n",
       "       [5. , 3.5, 1.6, 0.6],\n",
       "       [5.1, 3.8, 1.9, 0.4],\n",
       "       [4.8, 3. , 1.4, 0.3],\n",
       "       [5.1, 3.8, 1.6, 0.2],\n",
       "       [4.6, 3.2, 1.4, 0.2],\n",
       "       [5.3, 3.7, 1.5, 0.2],\n",
       "       [5. , 3.3, 1.4, 0.2],\n",
       "       [7. , 3.2, 4.7, 1.4],\n",
       "       [6.4, 3.2, 4.5, 1.5],\n",
       "       [6.9, 3.1, 4.9, 1.5],\n",
       "       [5.5, 2.3, 4. , 1.3],\n",
       "       [6.5, 2.8, 4.6, 1.5],\n",
       "       [5.7, 2.8, 4.5, 1.3],\n",
       "       [6.3, 3.3, 4.7, 1.6],\n",
       "       [4.9, 2.4, 3.3, 1. ],\n",
       "       [6.6, 2.9, 4.6, 1.3],\n",
       "       [5.2, 2.7, 3.9, 1.4],\n",
       "       [5. , 2. , 3.5, 1. ],\n",
       "       [5.9, 3. , 4.2, 1.5],\n",
       "       [6. , 2.2, 4. , 1. ],\n",
       "       [6.1, 2.9, 4.7, 1.4],\n",
       "       [5.6, 2.9, 3.6, 1.3],\n",
       "       [6.7, 3.1, 4.4, 1.4],\n",
       "       [5.6, 3. , 4.5, 1.5],\n",
       "       [5.8, 2.7, 4.1, 1. ],\n",
       "       [6.2, 2.2, 4.5, 1.5],\n",
       "       [5.6, 2.5, 3.9, 1.1],\n",
       "       [5.9, 3.2, 4.8, 1.8],\n",
       "       [6.1, 2.8, 4. , 1.3],\n",
       "       [6.3, 2.5, 4.9, 1.5],\n",
       "       [6.1, 2.8, 4.7, 1.2],\n",
       "       [6.4, 2.9, 4.3, 1.3],\n",
       "       [6.6, 3. , 4.4, 1.4],\n",
       "       [6.8, 2.8, 4.8, 1.4],\n",
       "       [6.7, 3. , 5. , 1.7],\n",
       "       [6. , 2.9, 4.5, 1.5],\n",
       "       [5.7, 2.6, 3.5, 1. ],\n",
       "       [5.5, 2.4, 3.8, 1.1],\n",
       "       [5.5, 2.4, 3.7, 1. ],\n",
       "       [5.8, 2.7, 3.9, 1.2],\n",
       "       [6. , 2.7, 5.1, 1.6],\n",
       "       [5.4, 3. , 4.5, 1.5],\n",
       "       [6. , 3.4, 4.5, 1.6],\n",
       "       [6.7, 3.1, 4.7, 1.5],\n",
       "       [6.3, 2.3, 4.4, 1.3],\n",
       "       [5.6, 3. , 4.1, 1.3],\n",
       "       [5.5, 2.5, 4. , 1.3],\n",
       "       [5.5, 2.6, 4.4, 1.2],\n",
       "       [6.1, 3. , 4.6, 1.4],\n",
       "       [5.8, 2.6, 4. , 1.2],\n",
       "       [5. , 2.3, 3.3, 1. ],\n",
       "       [5.6, 2.7, 4.2, 1.3],\n",
       "       [5.7, 3. , 4.2, 1.2],\n",
       "       [5.7, 2.9, 4.2, 1.3],\n",
       "       [6.2, 2.9, 4.3, 1.3],\n",
       "       [5.1, 2.5, 3. , 1.1],\n",
       "       [5.7, 2.8, 4.1, 1.3],\n",
       "       [6.3, 3.3, 6. , 2.5],\n",
       "       [5.8, 2.7, 5.1, 1.9],\n",
       "       [7.1, 3. , 5.9, 2.1],\n",
       "       [6.3, 2.9, 5.6, 1.8],\n",
       "       [6.5, 3. , 5.8, 2.2],\n",
       "       [7.6, 3. , 6.6, 2.1],\n",
       "       [4.9, 2.5, 4.5, 1.7],\n",
       "       [7.3, 2.9, 6.3, 1.8],\n",
       "       [6.7, 2.5, 5.8, 1.8],\n",
       "       [7.2, 3.6, 6.1, 2.5],\n",
       "       [6.5, 3.2, 5.1, 2. ],\n",
       "       [6.4, 2.7, 5.3, 1.9],\n",
       "       [6.8, 3. , 5.5, 2.1],\n",
       "       [5.7, 2.5, 5. , 2. ],\n",
       "       [5.8, 2.8, 5.1, 2.4],\n",
       "       [6.4, 3.2, 5.3, 2.3],\n",
       "       [6.5, 3. , 5.5, 1.8],\n",
       "       [7.7, 3.8, 6.7, 2.2],\n",
       "       [7.7, 2.6, 6.9, 2.3],\n",
       "       [6. , 2.2, 5. , 1.5],\n",
       "       [6.9, 3.2, 5.7, 2.3],\n",
       "       [5.6, 2.8, 4.9, 2. ],\n",
       "       [7.7, 2.8, 6.7, 2. ],\n",
       "       [6.3, 2.7, 4.9, 1.8],\n",
       "       [6.7, 3.3, 5.7, 2.1],\n",
       "       [7.2, 3.2, 6. , 1.8],\n",
       "       [6.2, 2.8, 4.8, 1.8],\n",
       "       [6.1, 3. , 4.9, 1.8],\n",
       "       [6.4, 2.8, 5.6, 2.1],\n",
       "       [7.2, 3. , 5.8, 1.6],\n",
       "       [7.4, 2.8, 6.1, 1.9],\n",
       "       [7.9, 3.8, 6.4, 2. ],\n",
       "       [6.4, 2.8, 5.6, 2.2],\n",
       "       [6.3, 2.8, 5.1, 1.5],\n",
       "       [6.1, 2.6, 5.6, 1.4],\n",
       "       [7.7, 3. , 6.1, 2.3],\n",
       "       [6.3, 3.4, 5.6, 2.4],\n",
       "       [6.4, 3.1, 5.5, 1.8],\n",
       "       [6. , 3. , 4.8, 1.8],\n",
       "       [6.9, 3.1, 5.4, 2.1],\n",
       "       [6.7, 3.1, 5.6, 2.4],\n",
       "       [6.9, 3.1, 5.1, 2.3],\n",
       "       [5.8, 2.7, 5.1, 1.9],\n",
       "       [6.8, 3.2, 5.9, 2.3],\n",
       "       [6.7, 3.3, 5.7, 2.5],\n",
       "       [6.7, 3. , 5.2, 2.3],\n",
       "       [6.3, 2.5, 5. , 1.9],\n",
       "       [6.5, 3. , 5.2, 2. ],\n",
       "       [6.2, 3.4, 5.4, 2.3],\n",
       "       [5.9, 3. , 5.1, 1.8]])"
      ]
     },
     "execution_count": 3,
     "metadata": {},
     "output_type": "execute_result"
    }
   ],
   "source": [
    "X"
   ]
  },
  {
   "cell_type": "code",
   "execution_count": 4,
   "id": "0867bbf1",
   "metadata": {},
   "outputs": [
    {
     "data": {
      "text/plain": [
       "(150, 4)"
      ]
     },
     "execution_count": 4,
     "metadata": {},
     "output_type": "execute_result"
    }
   ],
   "source": [
    "X.shape"
   ]
  },
  {
   "cell_type": "markdown",
   "id": "453f8e09",
   "metadata": {},
   "source": [
    "# Visualizing Our Data"
   ]
  },
  {
   "cell_type": "code",
   "execution_count": 5,
   "id": "ea055dc0",
   "metadata": {},
   "outputs": [
    {
     "data": {
      "text/plain": [
       "<matplotlib.collections.PathCollection at 0x1fc1b6a7940>"
      ]
     },
     "execution_count": 5,
     "metadata": {},
     "output_type": "execute_result"
    },
    {
     "data": {
      "image/png": "[encoded data removed]",
      "text/plain": [
       "<Figure size 432x288 with 1 Axes>"
      ]
     },
     "metadata": {
      "needs_background": "light"
     },
     "output_type": "display_data"
    }
   ],
   "source": [
    "plt.scatter(X[:,0], X[:,1], c=y)"
   ]
  },
  {
   "cell_type": "markdown",
   "id": "ab827b96",
   "metadata": {},
   "source": [
    "![title](img/img2.png)"
   ]
  },
  {
   "cell_type": "code",
   "execution_count": null,
   "id": "8c4825b2",
   "metadata": {},
   "outputs": [],
   "source": [
    "y ~ [0, 1, 1, 0, ...] -> [[1,0], [0,1], [0,1], [1,0]....]"
   ]
  },
  {
   "cell_type": "code",
   "execution_count": 6,
   "id": "e9d7dfb2",
   "metadata": {},
   "outputs": [
    {
     "data": {
      "text/plain": [
       "array([[1., 0., 0.],\n",
       "       [1., 0., 0.],\n",
       "       [1., 0., 0.],\n",
       "       [1., 0., 0.],\n",
       "       [1., 0., 0.],\n",
       "       [1., 0., 0.],\n",
       "       [1., 0., 0.],\n",
       "       [1., 0., 0.],\n",
       "       [1., 0., 0.],\n",
       "       [1., 0., 0.],\n",
       "       [1., 0., 0.],\n",
       "       [1., 0., 0.],\n",
       "       [1., 0., 0.],\n",
       "       [1., 0., 0.],\n",
       "       [1., 0., 0.],\n",
       "       [1., 0., 0.],\n",
       "       [1., 0., 0.],\n",
       "       [1., 0., 0.],\n",
       "       [1., 0., 0.],\n",
       "       [1., 0., 0.],\n",
       "       [1., 0., 0.],\n",
       "       [1., 0., 0.],\n",
       "       [1., 0., 0.],\n",
       "       [1., 0., 0.],\n",
       "       [1., 0., 0.],\n",
       "       [1., 0., 0.],\n",
       "       [1., 0., 0.],\n",
       "       [1., 0., 0.],\n",
       "       [1., 0., 0.],\n",
       "       [1., 0., 0.],\n",
       "       [1., 0., 0.],\n",
       "       [1., 0., 0.],\n",
       "       [1., 0., 0.],\n",
       "       [1., 0., 0.],\n",
       "       [1., 0., 0.],\n",
       "       [1., 0., 0.],\n",
       "       [1., 0., 0.],\n",
       "       [1., 0., 0.],\n",
       "       [1., 0., 0.],\n",
       "       [1., 0., 0.],\n",
       "       [1., 0., 0.],\n",
       "       [1., 0., 0.],\n",
       "       [1., 0., 0.],\n",
       "       [1., 0., 0.],\n",
       "       [1., 0., 0.],\n",
       "       [1., 0., 0.],\n",
       "       [1., 0., 0.],\n",
       "       [1., 0., 0.],\n",
       "       [1., 0., 0.],\n",
       "       [1., 0., 0.],\n",
       "       [0., 1., 0.],\n",
       "       [0., 1., 0.],\n",
       "       [0., 1., 0.],\n",
       "       [0., 1., 0.],\n",
       "       [0., 1., 0.],\n",
       "       [0., 1., 0.],\n",
       "       [0., 1., 0.],\n",
       "       [0., 1., 0.],\n",
       "       [0., 1., 0.],\n",
       "       [0., 1., 0.],\n",
       "       [0., 1., 0.],\n",
       "       [0., 1., 0.],\n",
       "       [0., 1., 0.],\n",
       "       [0., 1., 0.],\n",
       "       [0., 1., 0.],\n",
       "       [0., 1., 0.],\n",
       "       [0., 1., 0.],\n",
       "       [0., 1., 0.],\n",
       "       [0., 1., 0.],\n",
       "       [0., 1., 0.],\n",
       "       [0., 1., 0.],\n",
       "       [0., 1., 0.],\n",
       "       [0., 1., 0.],\n",
       "       [0., 1., 0.],\n",
       "       [0., 1., 0.],\n",
       "       [0., 1., 0.],\n",
       "       [0., 1., 0.],\n",
       "       [0., 1., 0.],\n",
       "       [0., 1., 0.],\n",
       "       [0., 1., 0.],\n",
       "       [0., 1., 0.],\n",
       "       [0., 1., 0.],\n",
       "       [0., 1., 0.],\n",
       "       [0., 1., 0.],\n",
       "       [0., 1., 0.],\n",
       "       [0., 1., 0.],\n",
       "       [0., 1., 0.],\n",
       "       [0., 1., 0.],\n",
       "       [0., 1., 0.],\n",
       "       [0., 1., 0.],\n",
       "       [0., 1., 0.],\n",
       "       [0., 1., 0.],\n",
       "       [0., 1., 0.],\n",
       "       [0., 1., 0.],\n",
       "       [0., 1., 0.],\n",
       "       [0., 1., 0.],\n",
       "       [0., 1., 0.],\n",
       "       [0., 1., 0.],\n",
       "       [0., 1., 0.],\n",
       "       [0., 1., 0.],\n",
       "       [0., 0., 1.],\n",
       "       [0., 0., 1.],\n",
       "       [0., 0., 1.],\n",
       "       [0., 0., 1.],\n",
       "       [0., 0., 1.],\n",
       "       [0., 0., 1.],\n",
       "       [0., 0., 1.],\n",
       "       [0., 0., 1.],\n",
       "       [0., 0., 1.],\n",
       "       [0., 0., 1.],\n",
       "       [0., 0., 1.],\n",
       "       [0., 0., 1.],\n",
       "       [0., 0., 1.],\n",
       "       [0., 0., 1.],\n",
       "       [0., 0., 1.],\n",
       "       [0., 0., 1.],\n",
       "       [0., 0., 1.],\n",
       "       [0., 0., 1.],\n",
       "       [0., 0., 1.],\n",
       "       [0., 0., 1.],\n",
       "       [0., 0., 1.],\n",
       "       [0., 0., 1.],\n",
       "       [0., 0., 1.],\n",
       "       [0., 0., 1.],\n",
       "       [0., 0., 1.],\n",
       "       [0., 0., 1.],\n",
       "       [0., 0., 1.],\n",
       "       [0., 0., 1.],\n",
       "       [0., 0., 1.],\n",
       "       [0., 0., 1.],\n",
       "       [0., 0., 1.],\n",
       "       [0., 0., 1.],\n",
       "       [0., 0., 1.],\n",
       "       [0., 0., 1.],\n",
       "       [0., 0., 1.],\n",
       "       [0., 0., 1.],\n",
       "       [0., 0., 1.],\n",
       "       [0., 0., 1.],\n",
       "       [0., 0., 1.],\n",
       "       [0., 0., 1.],\n",
       "       [0., 0., 1.],\n",
       "       [0., 0., 1.],\n",
       "       [0., 0., 1.],\n",
       "       [0., 0., 1.],\n",
       "       [0., 0., 1.],\n",
       "       [0., 0., 1.],\n",
       "       [0., 0., 1.],\n",
       "       [0., 0., 1.],\n",
       "       [0., 0., 1.],\n",
       "       [0., 0., 1.]])"
      ]
     },
     "execution_count": 6,
     "metadata": {},
     "output_type": "execute_result"
    }
   ],
   "source": [
    "onehot_encoder = OneHotEncoder(sparse=False)\n",
    "t = y.reshape(-1,1)\n",
    "onehot_encoded = onehot_encoder.fit_transform(t)\n",
    "t = onehot_encoded\n",
    "t"
   ]
  },
  {
   "cell_type": "code",
   "execution_count": 7,
   "id": "834740ed",
   "metadata": {},
   "outputs": [
    {
     "data": {
      "text/plain": [
       "array([[5.1, 3.5],\n",
       "       [4.9, 3. ],\n",
       "       [4.7, 3.2],\n",
       "       [4.6, 3.1],\n",
       "       [5. , 3.6],\n",
       "       [5.4, 3.9],\n",
       "       [4.6, 3.4],\n",
       "       [5. , 3.4],\n",
       "       [4.4, 2.9],\n",
       "       [4.9, 3.1],\n",
       "       [5.4, 3.7],\n",
       "       [4.8, 3.4],\n",
       "       [4.8, 3. ],\n",
       "       [4.3, 3. ],\n",
       "       [5.8, 4. ],\n",
       "       [5.7, 4.4],\n",
       "       [5.4, 3.9],\n",
       "       [5.1, 3.5],\n",
       "       [5.7, 3.8],\n",
       "       [5.1, 3.8],\n",
       "       [5.4, 3.4],\n",
       "       [5.1, 3.7],\n",
       "       [4.6, 3.6],\n",
       "       [5.1, 3.3],\n",
       "       [4.8, 3.4],\n",
       "       [5. , 3. ],\n",
       "       [5. , 3.4],\n",
       "       [5.2, 3.5],\n",
       "       [5.2, 3.4],\n",
       "       [4.7, 3.2],\n",
       "       [4.8, 3.1],\n",
       "       [5.4, 3.4],\n",
       "       [5.2, 4.1],\n",
       "       [5.5, 4.2],\n",
       "       [4.9, 3.1],\n",
       "       [5. , 3.2],\n",
       "       [5.5, 3.5],\n",
       "       [4.9, 3.6],\n",
       "       [4.4, 3. ],\n",
       "       [5.1, 3.4],\n",
       "       [5. , 3.5],\n",
       "       [4.5, 2.3],\n",
       "       [4.4, 3.2],\n",
       "       [5. , 3.5],\n",
       "       [5.1, 3.8],\n",
       "       [4.8, 3. ],\n",
       "       [5.1, 3.8],\n",
       "       [4.6, 3.2],\n",
       "       [5.3, 3.7],\n",
       "       [5. , 3.3],\n",
       "       [7. , 3.2],\n",
       "       [6.4, 3.2],\n",
       "       [6.9, 3.1],\n",
       "       [5.5, 2.3],\n",
       "       [6.5, 2.8],\n",
       "       [5.7, 2.8],\n",
       "       [6.3, 3.3],\n",
       "       [4.9, 2.4],\n",
       "       [6.6, 2.9],\n",
       "       [5.2, 2.7],\n",
       "       [5. , 2. ],\n",
       "       [5.9, 3. ],\n",
       "       [6. , 2.2],\n",
       "       [6.1, 2.9],\n",
       "       [5.6, 2.9],\n",
       "       [6.7, 3.1],\n",
       "       [5.6, 3. ],\n",
       "       [5.8, 2.7],\n",
       "       [6.2, 2.2],\n",
       "       [5.6, 2.5],\n",
       "       [5.9, 3.2],\n",
       "       [6.1, 2.8],\n",
       "       [6.3, 2.5],\n",
       "       [6.1, 2.8],\n",
       "       [6.4, 2.9],\n",
       "       [6.6, 3. ],\n",
       "       [6.8, 2.8],\n",
       "       [6.7, 3. ],\n",
       "       [6. , 2.9],\n",
       "       [5.7, 2.6],\n",
       "       [5.5, 2.4],\n",
       "       [5.5, 2.4],\n",
       "       [5.8, 2.7],\n",
       "       [6. , 2.7],\n",
       "       [5.4, 3. ],\n",
       "       [6. , 3.4],\n",
       "       [6.7, 3.1],\n",
       "       [6.3, 2.3],\n",
       "       [5.6, 3. ],\n",
       "       [5.5, 2.5],\n",
       "       [5.5, 2.6],\n",
       "       [6.1, 3. ],\n",
       "       [5.8, 2.6],\n",
       "       [5. , 2.3],\n",
       "       [5.6, 2.7],\n",
       "       [5.7, 3. ],\n",
       "       [5.7, 2.9],\n",
       "       [6.2, 2.9],\n",
       "       [5.1, 2.5],\n",
       "       [5.7, 2.8],\n",
       "       [6.3, 3.3],\n",
       "       [5.8, 2.7],\n",
       "       [7.1, 3. ],\n",
       "       [6.3, 2.9],\n",
       "       [6.5, 3. ],\n",
       "       [7.6, 3. ],\n",
       "       [4.9, 2.5],\n",
       "       [7.3, 2.9],\n",
       "       [6.7, 2.5],\n",
       "       [7.2, 3.6],\n",
       "       [6.5, 3.2],\n",
       "       [6.4, 2.7],\n",
       "       [6.8, 3. ],\n",
       "       [5.7, 2.5],\n",
       "       [5.8, 2.8],\n",
       "       [6.4, 3.2],\n",
       "       [6.5, 3. ],\n",
       "       [7.7, 3.8],\n",
       "       [7.7, 2.6],\n",
       "       [6. , 2.2],\n",
       "       [6.9, 3.2],\n",
       "       [5.6, 2.8],\n",
       "       [7.7, 2.8],\n",
       "       [6.3, 2.7],\n",
       "       [6.7, 3.3],\n",
       "       [7.2, 3.2],\n",
       "       [6.2, 2.8],\n",
       "       [6.1, 3. ],\n",
       "       [6.4, 2.8],\n",
       "       [7.2, 3. ],\n",
       "       [7.4, 2.8],\n",
       "       [7.9, 3.8],\n",
       "       [6.4, 2.8],\n",
       "       [6.3, 2.8],\n",
       "       [6.1, 2.6],\n",
       "       [7.7, 3. ],\n",
       "       [6.3, 3.4],\n",
       "       [6.4, 3.1],\n",
       "       [6. , 3. ],\n",
       "       [6.9, 3.1],\n",
       "       [6.7, 3.1],\n",
       "       [6.9, 3.1],\n",
       "       [5.8, 2.7],\n",
       "       [6.8, 3.2],\n",
       "       [6.7, 3.3],\n",
       "       [6.7, 3. ],\n",
       "       [6.3, 2.5],\n",
       "       [6.5, 3. ],\n",
       "       [6.2, 3.4],\n",
       "       [5.9, 3. ]])"
      ]
     },
     "execution_count": 7,
     "metadata": {},
     "output_type": "execute_result"
    }
   ],
   "source": [
    "X = X[:,:2]\n",
    "X"
   ]
  },
  {
   "cell_type": "code",
   "execution_count": 8,
   "id": "0cfc2d16",
   "metadata": {},
   "outputs": [
    {
     "name": "stdout",
     "output_type": "stream",
     "text": [
      "(150,)\n"
     ]
    },
    {
     "data": {
      "text/plain": [
       "(150, 1)"
      ]
     },
     "execution_count": 8,
     "metadata": {},
     "output_type": "execute_result"
    }
   ],
   "source": [
    "ones = np.ones(X.shape[0])\n",
    "print(ones.shape)\n",
    "ones = ones.reshape(X.shape[0],1)\n",
    "ones.shape"
   ]
  },
  {
   "cell_type": "code",
   "execution_count": 9,
   "id": "26471726",
   "metadata": {},
   "outputs": [
    {
     "data": {
      "text/plain": [
       "array([[1. , 5.1, 3.5],\n",
       "       [1. , 4.9, 3. ],\n",
       "       [1. , 4.7, 3.2],\n",
       "       [1. , 4.6, 3.1],\n",
       "       [1. , 5. , 3.6],\n",
       "       [1. , 5.4, 3.9],\n",
       "       [1. , 4.6, 3.4],\n",
       "       [1. , 5. , 3.4],\n",
       "       [1. , 4.4, 2.9],\n",
       "       [1. , 4.9, 3.1],\n",
       "       [1. , 5.4, 3.7],\n",
       "       [1. , 4.8, 3.4],\n",
       "       [1. , 4.8, 3. ],\n",
       "       [1. , 4.3, 3. ],\n",
       "       [1. , 5.8, 4. ],\n",
       "       [1. , 5.7, 4.4],\n",
       "       [1. , 5.4, 3.9],\n",
       "       [1. , 5.1, 3.5],\n",
       "       [1. , 5.7, 3.8],\n",
       "       [1. , 5.1, 3.8],\n",
       "       [1. , 5.4, 3.4],\n",
       "       [1. , 5.1, 3.7],\n",
       "       [1. , 4.6, 3.6],\n",
       "       [1. , 5.1, 3.3],\n",
       "       [1. , 4.8, 3.4],\n",
       "       [1. , 5. , 3. ],\n",
       "       [1. , 5. , 3.4],\n",
       "       [1. , 5.2, 3.5],\n",
       "       [1. , 5.2, 3.4],\n",
       "       [1. , 4.7, 3.2],\n",
       "       [1. , 4.8, 3.1],\n",
       "       [1. , 5.4, 3.4],\n",
       "       [1. , 5.2, 4.1],\n",
       "       [1. , 5.5, 4.2],\n",
       "       [1. , 4.9, 3.1],\n",
       "       [1. , 5. , 3.2],\n",
       "       [1. , 5.5, 3.5],\n",
       "       [1. , 4.9, 3.6],\n",
       "       [1. , 4.4, 3. ],\n",
       "       [1. , 5.1, 3.4],\n",
       "       [1. , 5. , 3.5],\n",
       "       [1. , 4.5, 2.3],\n",
       "       [1. , 4.4, 3.2],\n",
       "       [1. , 5. , 3.5],\n",
       "       [1. , 5.1, 3.8],\n",
       "       [1. , 4.8, 3. ],\n",
       "       [1. , 5.1, 3.8],\n",
       "       [1. , 4.6, 3.2],\n",
       "       [1. , 5.3, 3.7],\n",
       "       [1. , 5. , 3.3],\n",
       "       [1. , 7. , 3.2],\n",
       "       [1. , 6.4, 3.2],\n",
       "       [1. , 6.9, 3.1],\n",
       "       [1. , 5.5, 2.3],\n",
       "       [1. , 6.5, 2.8],\n",
       "       [1. , 5.7, 2.8],\n",
       "       [1. , 6.3, 3.3],\n",
       "       [1. , 4.9, 2.4],\n",
       "       [1. , 6.6, 2.9],\n",
       "       [1. , 5.2, 2.7],\n",
       "       [1. , 5. , 2. ],\n",
       "       [1. , 5.9, 3. ],\n",
       "       [1. , 6. , 2.2],\n",
       "       [1. , 6.1, 2.9],\n",
       "       [1. , 5.6, 2.9],\n",
       "       [1. , 6.7, 3.1],\n",
       "       [1. , 5.6, 3. ],\n",
       "       [1. , 5.8, 2.7],\n",
       "       [1. , 6.2, 2.2],\n",
       "       [1. , 5.6, 2.5],\n",
       "       [1. , 5.9, 3.2],\n",
       "       [1. , 6.1, 2.8],\n",
       "       [1. , 6.3, 2.5],\n",
       "       [1. , 6.1, 2.8],\n",
       "       [1. , 6.4, 2.9],\n",
       "       [1. , 6.6, 3. ],\n",
       "       [1. , 6.8, 2.8],\n",
       "       [1. , 6.7, 3. ],\n",
       "       [1. , 6. , 2.9],\n",
       "       [1. , 5.7, 2.6],\n",
       "       [1. , 5.5, 2.4],\n",
       "       [1. , 5.5, 2.4],\n",
       "       [1. , 5.8, 2.7],\n",
       "       [1. , 6. , 2.7],\n",
       "       [1. , 5.4, 3. ],\n",
       "       [1. , 6. , 3.4],\n",
       "       [1. , 6.7, 3.1],\n",
       "       [1. , 6.3, 2.3],\n",
       "       [1. , 5.6, 3. ],\n",
       "       [1. , 5.5, 2.5],\n",
       "       [1. , 5.5, 2.6],\n",
       "       [1. , 6.1, 3. ],\n",
       "       [1. , 5.8, 2.6],\n",
       "       [1. , 5. , 2.3],\n",
       "       [1. , 5.6, 2.7],\n",
       "       [1. , 5.7, 3. ],\n",
       "       [1. , 5.7, 2.9],\n",
       "       [1. , 6.2, 2.9],\n",
       "       [1. , 5.1, 2.5],\n",
       "       [1. , 5.7, 2.8],\n",
       "       [1. , 6.3, 3.3],\n",
       "       [1. , 5.8, 2.7],\n",
       "       [1. , 7.1, 3. ],\n",
       "       [1. , 6.3, 2.9],\n",
       "       [1. , 6.5, 3. ],\n",
       "       [1. , 7.6, 3. ],\n",
       "       [1. , 4.9, 2.5],\n",
       "       [1. , 7.3, 2.9],\n",
       "       [1. , 6.7, 2.5],\n",
       "       [1. , 7.2, 3.6],\n",
       "       [1. , 6.5, 3.2],\n",
       "       [1. , 6.4, 2.7],\n",
       "       [1. , 6.8, 3. ],\n",
       "       [1. , 5.7, 2.5],\n",
       "       [1. , 5.8, 2.8],\n",
       "       [1. , 6.4, 3.2],\n",
       "       [1. , 6.5, 3. ],\n",
       "       [1. , 7.7, 3.8],\n",
       "       [1. , 7.7, 2.6],\n",
       "       [1. , 6. , 2.2],\n",
       "       [1. , 6.9, 3.2],\n",
       "       [1. , 5.6, 2.8],\n",
       "       [1. , 7.7, 2.8],\n",
       "       [1. , 6.3, 2.7],\n",
       "       [1. , 6.7, 3.3],\n",
       "       [1. , 7.2, 3.2],\n",
       "       [1. , 6.2, 2.8],\n",
       "       [1. , 6.1, 3. ],\n",
       "       [1. , 6.4, 2.8],\n",
       "       [1. , 7.2, 3. ],\n",
       "       [1. , 7.4, 2.8],\n",
       "       [1. , 7.9, 3.8],\n",
       "       [1. , 6.4, 2.8],\n",
       "       [1. , 6.3, 2.8],\n",
       "       [1. , 6.1, 2.6],\n",
       "       [1. , 7.7, 3. ],\n",
       "       [1. , 6.3, 3.4],\n",
       "       [1. , 6.4, 3.1],\n",
       "       [1. , 6. , 3. ],\n",
       "       [1. , 6.9, 3.1],\n",
       "       [1. , 6.7, 3.1],\n",
       "       [1. , 6.9, 3.1],\n",
       "       [1. , 5.8, 2.7],\n",
       "       [1. , 6.8, 3.2],\n",
       "       [1. , 6.7, 3.3],\n",
       "       [1. , 6.7, 3. ],\n",
       "       [1. , 6.3, 2.5],\n",
       "       [1. , 6.5, 3. ],\n",
       "       [1. , 6.2, 3.4],\n",
       "       [1. , 5.9, 3. ]])"
      ]
     },
     "execution_count": 9,
     "metadata": {},
     "output_type": "execute_result"
    }
   ],
   "source": [
    "X = np.concatenate((ones, X), axis=1)\n",
    "X"
   ]
  },
  {
   "cell_type": "code",
   "execution_count": 10,
   "id": "a7646c59",
   "metadata": {},
   "outputs": [
    {
     "data": {
      "text/plain": [
       "array([[ 0.7752867 ,  1.7927664 , -1.56805309],\n",
       "       [-0.3744393 ,  0.01413691,  0.36030239],\n",
       "       [ 0.57109254, -0.50437409, -0.06671845]])"
      ]
     },
     "execution_count": 10,
     "metadata": {},
     "output_type": "execute_result"
    }
   ],
   "source": [
    "beta = np.linalg.inv(X.T @ X) @ X.T @ t\n",
    "beta"
   ]
  },
  {
   "cell_type": "code",
   "execution_count": 11,
   "id": "adf3e794",
   "metadata": {},
   "outputs": [
    {
     "name": "stdout",
     "output_type": "stream",
     "text": [
      "-1.017479699777995 -0.3885762025507093 1.0754666299659745\n"
     ]
    }
   ],
   "source": [
    "beta00 = beta[0][0]-beta[0][1]\n",
    "beta10 = beta[1][0]-beta[1][1]\n",
    "beta20 = beta[2][0]-beta[2][1]\n",
    "print(beta00, beta10,beta20)"
   ]
  },
  {
   "cell_type": "code",
   "execution_count": 12,
   "id": "6fe996de",
   "metadata": {},
   "outputs": [
    {
     "name": "stdout",
     "output_type": "stream",
     "text": [
      "3.360819492072816 -0.34616548554667553 -0.43765563831064347\n"
     ]
    }
   ],
   "source": [
    "beta01 = beta[0][1]-beta[0][2]\n",
    "beta11 = beta[1][1]-beta[1][2]\n",
    "beta21 = beta[2][1]-beta[2][2]\n",
    "print(beta01, beta11,beta21)"
   ]
  },
  {
   "cell_type": "code",
   "execution_count": 13,
   "id": "6fd9042e",
   "metadata": {},
   "outputs": [
    {
     "name": "stdout",
     "output_type": "stream",
     "text": [
      "-2.343339792294821 0.7347416880973848 -0.6378109916553312\n"
     ]
    }
   ],
   "source": [
    "beta02 = beta[0][2]-beta[0][0]\n",
    "beta12 = beta[1][2]-beta[1][0]\n",
    "beta22 = beta[2][2]-beta[2][0]\n",
    "print(beta02, beta12,beta22)"
   ]
  },
  {
   "cell_type": "code",
   "execution_count": 16,
   "id": "01428377",
   "metadata": {},
   "outputs": [],
   "source": [
    "line_x = np.linspace(4, 7,10)\n",
    "line_y1 = - (beta00/beta20) - (beta10/beta20)*line_x\n",
    "line_y2 = - (beta01/beta21) - (beta11/beta21)*line_x\n",
    "line_y3 = - (beta02/beta22) - (beta12/beta22)*line_x"
   ]
  },
  {
   "cell_type": "code",
   "execution_count": null,
   "id": "526c563f",
   "metadata": {},
   "outputs": [],
   "source": []
  },
  {
   "cell_type": "code",
   "execution_count": null,
   "id": "c989aa74",
   "metadata": {},
   "outputs": [],
   "source": []
  },
  {
   "cell_type": "code",
   "execution_count": null,
   "id": "5a078a32",
   "metadata": {},
   "outputs": [],
   "source": [
    "# Take X as features you need (e.g. , 0 and 1 columns)\n",
    "X = ...\n",
    "\n",
    "\n",
    "# Add column of ones to account for bias term\n",
    "X = ...\n",
    "\n",
    "# Create y array of class labels\n",
    "y = ...\n",
    "\n",
    "# Calculate the Regularized Least Squares solution\n",
    "beta = ..."
   ]
  },
  {
   "cell_type": "markdown",
   "id": "b46a8f68",
   "metadata": {},
   "source": [
    "![title](img/img3.png)"
   ]
  },
  {
   "cell_type": "code",
   "execution_count": 17,
   "id": "2b525b40",
   "metadata": {},
   "outputs": [
    {
     "data": {
      "text/plain": [
       "[<matplotlib.lines.Line2D at 0x1fc1be2fc40>]"
      ]
     },
     "execution_count": 17,
     "metadata": {},
     "output_type": "execute_result"
    },
    {
     "data": {
      "image/png": "[encoded data removed]",
      "text/plain": [
       "<Figure size 432x288 with 1 Axes>"
      ]
     },
     "metadata": {
      "needs_background": "light"
     },
     "output_type": "display_data"
    }
   ],
   "source": [
    "# Plot the resulting regression line\n",
    "plt.scatter(X[:,1], X[:,2], c=y)\n",
    "\n",
    "plt.plot(line_x, line_y1, c='r')\n",
    "plt.plot(line_x, line_y2, c='g')\n",
    "plt.plot(line_x, line_y3, c='b')"
   ]
  },
  {
   "cell_type": "code",
   "execution_count": null,
   "id": "347a02ce",
   "metadata": {},
   "outputs": [],
   "source": []
  }
 ],
 "metadata": {
  "kernelspec": {
   "display_name": "Python 3",
   "language": "python",
   "name": "python3"
  },
  "language_info": {
   "codemirror_mode": {
    "name": "ipython",
    "version": 3
   },
   "file_extension": ".py",
   "mimetype": "text/x-python",
   "name": "python",
   "nbconvert_exporter": "python",
   "pygments_lexer": "ipython3",
   "version": "3.8.8"
  }
 },
 "nbformat": 4,
 "nbformat_minor": 5
}
